{
 "cells": [
  {
   "cell_type": "code",
   "execution_count": 1,
   "id": "db9cf199",
   "metadata": {
    "scrolled": true
   },
   "outputs": [
    {
     "data": {
      "text/plain": [
       "['globir.19356.0000',\n",
       " 'globir.19355.0000',\n",
       " 'globir.19354.0000',\n",
       " 'globir.19353.0000',\n",
       " 'globir.19352.0000',\n",
       " 'globir.19351.0000',\n",
       " 'globir.19350.0000',\n",
       " 'globir.19349.0000',\n",
       " 'globir.19348.0000',\n",
       " 'globir.19347.0000']"
      ]
     },
     "execution_count": 1,
     "metadata": {},
     "output_type": "execute_result"
    }
   ],
   "source": [
    "#!/usr/bin/python\n",
    "from http.cookiejar import CookieJar\n",
    "from urllib.parse import urlencode\n",
    "import urllib.request\n",
    "import fsspec\n",
    "import numpy as np\n",
    "from extract import globir\n",
    "import utm\n",
    "path=r'C:\\Users\\acmor\\Desktop\\gits\\data'\n",
    "urls =np.loadtxt(path+r'\\files.txt',dtype=str)\n",
    "names=[n[-17:] for n in urls]\n",
    "names[:10]\n"
   ]
  },
  {
   "cell_type": "code",
   "execution_count": 2,
   "id": "2c9f1de2",
   "metadata": {
    "scrolled": false
   },
   "outputs": [],
   "source": [
    "lon=(2062,2423)\n",
    "lat=(3565,3875)"
   ]
  },
  {
   "cell_type": "code",
   "execution_count": 3,
   "id": "7f16bd63",
   "metadata": {},
   "outputs": [],
   "source": [
    "scene=[globir(path+'\\\\'+i) for i in names]\n",
    "for frame in scene:\n",
    "    frame.set_time()\n",
    "    frame.extract_local_arr()\n",
    "    frame.cut(lon,lat)\n",
    "    frame.show_im()"
   ]
  }
 ],
 "metadata": {
  "kernelspec": {
   "display_name": "Python 3 (ipykernel)",
   "language": "python",
   "name": "python3"
  },
  "language_info": {
   "codemirror_mode": {
    "name": "ipython",
    "version": 3
   },
   "file_extension": ".py",
   "mimetype": "text/x-python",
   "name": "python",
   "nbconvert_exporter": "python",
   "pygments_lexer": "ipython3",
   "version": "3.9.7"
  }
 },
 "nbformat": 4,
 "nbformat_minor": 5
}
